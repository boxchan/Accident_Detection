{
 "cells": [
  {
   "cell_type": "code",
   "execution_count": 1,
   "id": "a18243d9",
   "metadata": {},
   "outputs": [],
   "source": [
    "import cv2\n",
    "import time\n",
    "from pathlib import Path\n",
    "import torch"
   ]
  },
  {
   "cell_type": "code",
   "execution_count": 4,
   "id": "a4ca1372",
   "metadata": {},
   "outputs": [
    {
     "name": "stderr",
     "output_type": "stream",
     "text": [
      "Using cache found in C:\\Users\\zhang/.cache\\torch\\hub\\ultralytics_yolov5_master\n",
      "YOLOv5  2024-2-13 Python-3.10.13 torch-2.2.0+cpu CPU\n",
      "\n",
      "Fusing layers... \n",
      "YOLOv5s summary: 213 layers, 7225885 parameters, 0 gradients, 16.4 GFLOPs\n",
      "Adding AutoShape... \n"
     ]
    }
   ],
   "source": [
    "# 加载YOLOv5模型\n",
    "model = torch.hub.load('ultralytics/yolov5', 'yolov5s', pretrained=True)\n",
    "\n",
    "# 初始化视频流\n",
    "cap = cv2.VideoCapture('https://youtu.be/LNwODJXcvt4')  # 替换为你的视频流地址\n",
    "\n",
    "# 记录上一次“人”出现的时间\n",
    "last_person_detected_time = time.time()\n",
    "\n",
    "while True:\n",
    "    ret, frame = cap.read()\n",
    "    if not ret:\n",
    "        break\n",
    "\n",
    "    # 使用YOLOv5模型检测当前帧\n",
    "    results = model(frame)\n",
    "\n",
    "    # 检测“人”\n",
    "    persons_detected = len([x for x in results.xyxy[0] if x[-1] == 0])  # 假设'0'是人类标签的索引\n",
    "\n",
    "    if persons_detected > 0:\n",
    "        last_person_detected_time = time.time()\n",
    "    else:\n",
    "        # 检查自上次检测到“人”以来是否已经过去了2分钟\n",
    "        if time.time() - last_person_detected_time > 120:  # 2分钟\n",
    "            print(\"警报：2分钟内未检测到人\")\n",
    "            last_person_detected_time = time.time()  # 重置时间，避免连续警报\n",
    "\n",
    "    # 可以添加一些延时来减少处理速度，减轻CPU/GPU负担\n",
    "    time.sleep(0.1)\n",
    "\n",
    "cap.release()\n"
   ]
  },
  {
   "cell_type": "code",
   "execution_count": 5,
   "id": "ada46e42",
   "metadata": {},
   "outputs": [
    {
     "ename": "NameError",
     "evalue": "name 'results' is not defined",
     "output_type": "error",
     "traceback": [
      "\u001b[1;31m---------------------------------------------------------------------------\u001b[0m",
      "\u001b[1;31mNameError\u001b[0m                                 Traceback (most recent call last)",
      "Cell \u001b[1;32mIn[5], line 1\u001b[0m\n\u001b[1;32m----> 1\u001b[0m \u001b[43mresults\u001b[49m\n",
      "\u001b[1;31mNameError\u001b[0m: name 'results' is not defined"
     ]
    }
   ],
   "source": [
    "results"
   ]
  },
  {
   "cell_type": "code",
   "execution_count": null,
   "id": "72c037b3",
   "metadata": {},
   "outputs": [],
   "source": []
  }
 ],
 "metadata": {
  "kernelspec": {
   "display_name": "tfenv",
   "language": "python",
   "name": "tfenv"
  },
  "language_info": {
   "codemirror_mode": {
    "name": "ipython",
    "version": 3
   },
   "file_extension": ".py",
   "mimetype": "text/x-python",
   "name": "python",
   "nbconvert_exporter": "python",
   "pygments_lexer": "ipython3",
   "version": "3.10.13"
  }
 },
 "nbformat": 4,
 "nbformat_minor": 5
}
